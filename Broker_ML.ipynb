{
  "nbformat": 4,
  "nbformat_minor": 0,
  "metadata": {
    "colab": {
      "provenance": [],
      "authorship_tag": "ABX9TyNb9s7nCLOibL+GOuJmkOzH",
      "include_colab_link": true
    },
    "kernelspec": {
      "name": "python3",
      "display_name": "Python 3"
    },
    "language_info": {
      "name": "python"
    }
  },
  "cells": [
    {
      "cell_type": "markdown",
      "metadata": {
        "id": "view-in-github",
        "colab_type": "text"
      },
      "source": [
        "<a href=\"https://colab.research.google.com/github/Bhshdhhhd/GitLearningB/blob/main/Broker_ML.ipynb\" target=\"_parent\"><img src=\"https://colab.research.google.com/assets/colab-badge.svg\" alt=\"Open In Colab\"/></a>"
      ]
    },
    {
      "cell_type": "code",
      "source": [
        "import pandas as pd\n",
        "import numpy as np\n",
        "from sklearn.model_selection import train_test_split\n",
        "from sklearn.preprocessing import LabelEncoder\n",
        "from sklearn.ensemble import RandomForestClassifier\n",
        "from sklearn.metrics import classification_report, confusion_matrix\n",
        "\n",
        "\n",
        "data = pd.DataFrame({\n",
        "    'Age': [28, 42, 36, 50, 23, 45, 33, 39],\n",
        "    'Income': [45000, 90000, 65000, 120000, 30000, 85000, 62000, 70000],\n",
        "    'Investment_Experience': [2, 8, 4, 10, 1, 7, 3, 5],\n",
        "    'Contacted': ['Yes', 'No', 'Yes', 'No', 'Yes', 'Yes', 'No', 'Yes'],\n",
        "    'Converted': ['No', 'Yes', 'Yes', 'Yes', 'No', 'Yes', 'No', 'Yes']\n",
        "})\n",
        "\n",
        "\n",
        "le = LabelEncoder()\n",
        "data['Contacted'] = le.fit_transform(data['Contacted'])\n",
        "data['Converted'] = le.fit_transform(data['Converted'])\n",
        "\n",
        "X = data.drop('Converted', axis=1)\n",
        "y = data['Converted']\n",
        "\n",
        "X_train, X_test, y_train, y_test = train_test_split(X, y, test_size=0.25, random_state=42)\n",
        "\n",
        "model = RandomForestClassifier()\n",
        "model.fit(X_train, y_train)\n",
        "\n",
        "y_pred = model.predict(X_test)\n",
        "print(\"Confusion Matrix:\\n\", confusion_matrix(y_test, y_pred))\n",
        "print(\"\\nClassification Report:\\n\", classification_report(y_test, y_pred))\n",
        "\n",
        "new_client = pd.DataFrame({\n",
        "    'Age': [35],\n",
        "    'Income': [75000],\n",
        "    'Investment_Experience': [3],\n",
        "    'Contacted': [1]\n",
        "})\n",
        "prediction = model.predict(new_client)[0]\n",
        "print(\"\\nWill the client convert?\", \"Yes\" if prediction == 1 else \"No\")"
      ],
      "metadata": {
        "colab": {
          "base_uri": "https://localhost:8080/"
        },
        "id": "2zTTqLxrQWIM",
        "outputId": "d540159c-cdf6-421d-9929-ac6b1e1a696d"
      },
      "execution_count": 1,
      "outputs": [
        {
          "output_type": "stream",
          "name": "stdout",
          "text": [
            "Confusion Matrix:\n",
            " [[2]]\n",
            "\n",
            "Classification Report:\n",
            "               precision    recall  f1-score   support\n",
            "\n",
            "           1       1.00      1.00      1.00         2\n",
            "\n",
            "    accuracy                           1.00         2\n",
            "   macro avg       1.00      1.00      1.00         2\n",
            "weighted avg       1.00      1.00      1.00         2\n",
            "\n",
            "\n",
            "Will the client convert? Yes\n"
          ]
        },
        {
          "output_type": "stream",
          "name": "stderr",
          "text": [
            "/usr/local/lib/python3.11/dist-packages/sklearn/metrics/_classification.py:407: UserWarning: A single label was found in 'y_true' and 'y_pred'. For the confusion matrix to have the correct shape, use the 'labels' parameter to pass all known labels.\n",
            "  warnings.warn(\n"
          ]
        }
      ]
    },
    {
      "cell_type": "code",
      "source": [],
      "metadata": {
        "id": "-ZeZfoLx1jaQ"
      },
      "execution_count": null,
      "outputs": []
    }
  ]
}